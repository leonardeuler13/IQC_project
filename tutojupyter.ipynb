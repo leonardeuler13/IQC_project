{
 "cells": [
  {
   "cell_type": "markdown",
   "id": "07dd4c49-dab4-4b82-b8bc-2e8c6df8d9b3",
   "metadata": {},
   "source": [
    "# Qiskit Tutorial"
   ]
  },
  {
   "cell_type": "markdown",
   "id": "5335bb26-0d6f-4e76-8103-e0c079dbd884",
   "metadata": {},
   "source": [
    "**Main page:** https://quantum.ibm.com/\n",
    "\n",
    "**General documentation:** https://docs.quantum.ibm.com/ \n",
    "\n",
    "**Qiskit documentation:** https://docs.quantum.ibm.com/api/qiskit\n"
   ]
  },
  {
   "cell_type": "markdown",
   "id": "50f7550a-1564-473e-9ff5-ef7d3eb35d71",
   "metadata": {},
   "source": [
    "## Glossary \n",
    "**IBM Quantum Platform** is an online platform allowing public and premium access to cloud-based quantum computing services provided by IBM.\n",
    "\n",
    "**Qiskit** is an open-source software development kit (SDK) for working with quantum computers at the level of extended quantum circuits, operators, and primitives, founded by IBM research. The core component of Qiskit is the Python library qiskit.\n",
    "\n",
    "In other words, using Qiskit, you can access IBM quantum computers and cloud-based simulators; but it also allows writing code locally and testing it with the simulators on your computer. On the other hand, IBM computers can be accessed through other means, e.g. through APIs of other libraries.\n"
   ]
  },
  {
   "cell_type": "markdown",
   "id": "a6826cfa-9cc7-46ec-a7d2-a0d74cdf2422",
   "metadata": {},
   "source": [
    "## Before starting\n",
    "\n",
    "\n",
    "\n",
    "### IBM Quantum Platform\n",
    "To access IBM Quantum services, you need first to create an IBMid, which can be done on the [IBM Quantum main page](https://quantum.ibm.com/). Please your institutional email.\n",
    "\n",
    "\n",
    "### Qiskit\n",
    "To write code with Qiskit, you can:\n",
    "\n",
    "- Install Qiskit locally, following the instructions here: https://docs.quantum.ibm.com/start/install<br><br>\n",
    "One library which is not mentioned in instructions but you can find useful is Qiskit Aer (see [Github repo](https://github.com/Qiskit/qiskit-aer)  with installation instructions). While base Qiskit contains simple local simulator, Qiskit Aer has ones with better performance, including GPU support. Besides, it includes various noise models.\n",
    "<br><br>*Note:* just recently, i.e. 15 February 2024, [Qiskit 1.0](https://www.ibm.com/quantum/blog/qiskit-1-0-release-summary) was released. Therefore, even if you dealt with Qiskit before, please ensure you have **1.x version and not 0.x**. You can refer to [migration guide](https://docs.quantum.ibm.com/api/migration-guides/qiskit-1.0-installation). Most importantly, you must create **new** environment for Qiskit 1.x if you already have one with Qiskit 0.x and **NOT upgrade in-place**.\n",
    "\n",
    "\n",
    "- Use [Quantum Lab](https://lab.quantum.ibm.com/), a cloud programming environment based on JupyterLab, without installing anything locally. <br>\n",
    "Note that you need to create an IBMid account first. <br>\n",
    "More info about Quantum Lab is here: https://docs.quantum.ibm.com/lab\n",
    "\n",
    "The versions of libraries used in this notebook are:"
   ]
  },
  {
   "cell_type": "code",
   "execution_count": 1,
   "id": "f2694195-4d30-4d5b-b600-e718b546cf79",
   "metadata": {},
   "outputs": [
    {
     "name": "stdout",
     "output_type": "stream",
     "text": [
      "1.0.1\n",
      "0.21.1\n",
      "0.13.3\n"
     ]
    }
   ],
   "source": [
    "import qiskit\n",
    "import qiskit_ibm_runtime\n",
    "import qiskit_aer\n",
    "\n",
    "print(qiskit.__version__)\n",
    "print(qiskit_ibm_runtime.__version__)\n",
    "print(qiskit_aer.__version__)"
   ]
  },
  {
   "cell_type": "markdown",
   "id": "936d3d1e-616a-44f3-b7b0-4a811a11da32",
   "metadata": {},
   "source": [
    "## Circuit construction\n"
   ]
  },
  {
   "cell_type": "markdown",
   "id": "aece9053-6449-44be-962b-7bf2f84bafc6",
   "metadata": {},
   "source": [
    "Let's start with creating a simple circuit from Homework 2, Exercise 1d). It is 2-qubit circuit representing operation $U$ such that:\n",
    "$$U \\left( \\left| x \\right\\rangle \\otimes  \\left| y \\right\\rangle \\right) =  \\left| x \\right\\rangle \\otimes  \\left| y \\oplus \\bar{x} \\right\\rangle  $$"
   ]
  },
  {
   "cell_type": "code",
   "execution_count": 2,
   "id": "ebe40973-6723-4e28-84bf-3e30911124ae",
   "metadata": {},
   "outputs": [],
   "source": [
    "from qiskit import QuantumCircuit\n",
    "\n",
    "circ = QuantumCircuit(2)"
   ]
  },
  {
   "cell_type": "markdown",
   "id": "ddc33c5d-b68e-49e0-987f-97f8f41ce521",
   "metadata": {},
   "source": [
    "Here, we initialized 2-qubit circuit. You can pass number of classical bits in the second argument but we don't need that for now. We can even draw it:"
   ]
  },
  {
   "cell_type": "code",
   "execution_count": 3,
   "id": "812d3eb1-82ec-4350-83d4-c15bd0015171",
   "metadata": {},
   "outputs": [
    {
     "data": {
      "image/png": "[encoded data removed]",
      "text/plain": [
       "<Figure size 161.878x200.667 with 1 Axes>"
      ]
     },
     "execution_count": 3,
     "metadata": {},
     "output_type": "execute_result"
    }
   ],
   "source": [
    "circ.draw('mpl')"
   ]
  },
  {
   "cell_type": "markdown",
   "id": "6a1832bf-516d-4076-9b04-f0f22be3554e",
   "metadata": {},
   "source": [
    "Now, we can add gates sequentially:"
   ]
  },
  {
   "cell_type": "code",
   "execution_count": 4,
   "id": "ee79287c-a48f-4984-92ac-cfe5ed16832e",
   "metadata": {},
   "outputs": [
    {
     "data": {
      "image/png": "[encoded data removed]",
      "text/plain": [
       "<Figure size 370.906x200.667 with 1 Axes>"
      ]
     },
     "execution_count": 4,
     "metadata": {},
     "output_type": "execute_result"
    }
   ],
   "source": [
    "circ.x(0)\n",
    "circ.cx(0,1)\n",
    "circ.x(0)\n",
    "\n",
    "circ.draw('mpl')"
   ]
  },
  {
   "cell_type": "markdown",
   "id": "ee885c1b-f821-469f-a198-6df14346e90e",
   "metadata": {},
   "source": [
    "You can find more info about available basic gates here: https://docs.quantum.ibm.com/api/qiskit/circuit_library\n",
    "\n",
    "We can do various stuff here, for example we can create another circuit..."
   ]
  },
  {
   "cell_type": "code",
   "execution_count": 5,
   "id": "11d7bf3f-bd46-498d-a491-9b07230ae156",
   "metadata": {},
   "outputs": [
    {
     "data": {
      "image/png": "[encoded data removed]",
      "text/plain": [
       "<Figure size 203.683x200.667 with 1 Axes>"
      ]
     },
     "execution_count": 5,
     "metadata": {},
     "output_type": "execute_result"
    }
   ],
   "source": [
    "circ2 = QuantumCircuit(2)\n",
    "circ2.h(0)\n",
    "circ2.z(1)\n",
    "circ2.draw('mpl')"
   ]
  },
  {
   "cell_type": "markdown",
   "id": "7e66c10a-6c69-40de-b0d2-79c87b465992",
   "metadata": {},
   "source": [
    "and combine the first one with permuted second one (the originals are preserved here)."
   ]
  },
  {
   "cell_type": "code",
   "execution_count": 6,
   "id": "a6a819c9-f448-46d6-baae-9ff10eba6b49",
   "metadata": {},
   "outputs": [
    {
     "data": {
      "image/png": "[encoded data removed]",
      "text/plain": [
       "<Figure size 454.517x200.667 with 1 Axes>"
      ]
     },
     "execution_count": 6,
     "metadata": {},
     "output_type": "execute_result"
    }
   ],
   "source": [
    "combined = circ.compose(circ2, (1, 0))\n",
    "combined.draw('mpl')"
   ]
  },
  {
   "cell_type": "markdown",
   "id": "5f85b3a2-6670-473a-8610-7a040b5ede29",
   "metadata": {},
   "source": [
    "Some other things about circuit construction you can find here: https://docs.quantum.ibm.com/build/circuit-construction\n",
    "\n",
    "But let's go back to our first circuit. Suppose we would like to run it. Then, we generally would also like to measure it.\n",
    "\n",
    "Suppose we want to measure only the bit $q_1$:"
   ]
  },
  {
   "cell_type": "code",
   "execution_count": 7,
   "id": "903909b0-9d2a-4f98-b6eb-58427487b074",
   "metadata": {},
   "outputs": [
    {
     "data": {
      "image/png": "[encoded data removed]",
      "text/plain": [
       "<Figure size 370.906x284.278 with 1 Axes>"
      ]
     },
     "execution_count": 7,
     "metadata": {},
     "output_type": "execute_result"
    }
   ],
   "source": [
    "from qiskit.circuit import Clbit\n",
    "circ_measure_1 = circ.copy()\n",
    "circ_measure_1.add_bits([Clbit()]) \n",
    "circ_measure_1.measure(1, 0)\n",
    "circ_measure_1.draw('mpl')"
   ]
  },
  {
   "cell_type": "markdown",
   "id": "39f6a4f3-85af-4ac2-9370-78ec5ca2547a",
   "metadata": {},
   "source": [
    "Here, we made a copy of circuit because we would like to show another way to add measurements after. <br>\n",
    "Then, we had to introduce new classical bit because we had no classical ones before and we have to store the result somewhere. Finally, we added a measurement operator.\n",
    "\n",
    "On the other hand, if we want to measure all the bits, there is a function which allows us to do so:"
   ]
  },
  {
   "cell_type": "code",
   "execution_count": 8,
   "id": "3aac0a7f-9711-4bd4-8ed3-a24a029ef14e",
   "metadata": {},
   "outputs": [
    {
     "data": {
      "image/png": "[encoded data removed]",
      "text/plain": [
       "<Figure size 663.998x284.278 with 1 Axes>"
      ]
     },
     "execution_count": 8,
     "metadata": {},
     "output_type": "execute_result"
    }
   ],
   "source": [
    "circ_measure_all = circ.copy()\n",
    "circ_measure_all.measure_all()\n",
    "circ_measure_all.draw('mpl')"
   ]
  },
  {
   "cell_type": "markdown",
   "id": "788726c8-2af8-4d2c-938b-1c493b5ae102",
   "metadata": {},
   "source": [
    "Note that the classical bits were created automatically."
   ]
  },
  {
   "cell_type": "markdown",
   "id": "1d764ed9-ccd9-489d-b1ef-0c05fb00d7ce",
   "metadata": {},
   "source": [
    "## Running the circuit\n",
    "\n",
    "As mentioned before, you can either use local simulators or send jobs to cloud services &mdash; real quantum computers and simulators  &mdash; of IBM."
   ]
  },
  {
   "cell_type": "markdown",
   "id": "65eff63c-8bc4-446d-8d12-89b6c04fe502",
   "metadata": {},
   "source": [
    "### Local simulators\n",
    "\n",
    "Using simulators locally helps to test and debug your quantum algorithms quickly. Even cloud simulators require you to wait in a queue before your job runs, let alone actual quantum computers. Besides, local simulation does not require Internet access.\n"
   ]
  },
  {
   "cell_type": "markdown",
   "id": "22925e82-c330-4fa9-8d9a-5d044320c9fd",
   "metadata": {},
   "source": [
    "We start with the exact simulator from Qiskit Aer library.\n",
    "\n",
    "We will run our last circuit measuring both qubits 4000 times. Note that the input state of the circuit is always assumed to be zero! Therefore, result we would expect is $\\left| 0 1 \\right\\rangle$."
   ]
  },
  {
   "cell_type": "code",
   "execution_count": 9,
   "id": "0ee05ea6-abf8-4863-970c-95b160443477",
   "metadata": {},
   "outputs": [
    {
     "name": "stdout",
     "output_type": "stream",
     "text": [
      "{'10': 4000}\n"
     ]
    }
   ],
   "source": [
    "from qiskit_aer import AerSimulator\n",
    "\n",
    "sim_ideal = AerSimulator()  # construct simulator\n",
    "\n",
    "job_ideal = sim_ideal.run(circ_measure_all, shots=4000)  # launch a job to run the circuit multiple times\n",
    "res_ideal = job_ideal.result()  # obtain results of a run\n",
    "counts_ideal = res_ideal.get_counts()  # obtain results of the measumerents\n",
    "\n",
    "print(counts_ideal)"
   ]
  },
  {
   "cell_type": "markdown",
   "id": "2f059b0c-44e1-4237-8675-1328bbc7eaac",
   "metadata": {},
   "source": [
    "We got the correct result, but the order of bits is reverse. <br>\n",
    "This is something you should take into account &mdash; the circuit wires are labeled by default as $q_0 \\; q_1 \\dots q_{n-1}$, and its state vector by default is written in order $ \\left| q_{n-1} \\dots q_1 \\; q_{0} \\right\\rangle$ (and not $\\left| q_0 \\; q_1 \\dots q_{n-1}\\right\\rangle$ as you might have expected)."
   ]
  },
  {
   "cell_type": "markdown",
   "id": "a06d311e-ac6d-43b4-bddd-1a77fffac9bb",
   "metadata": {},
   "source": [
    "Now, let's build a circuit which should produce superposition state. For example, let's add Hadamard gate to the first wire:"
   ]
  },
  {
   "cell_type": "code",
   "execution_count": 10,
   "id": "fa555460-85ac-4290-9209-a9568f5f9a33",
   "metadata": {},
   "outputs": [
    {
     "data": {
      "image/png": "[encoded data removed]",
      "text/plain": [
       "<Figure size 747.609x284.278 with 1 Axes>"
      ]
     },
     "execution_count": 10,
     "metadata": {},
     "output_type": "execute_result"
    }
   ],
   "source": [
    "h_gate = QuantumCircuit(2)\n",
    "h_gate.h(0)\n",
    "circ_with_h = h_gate.compose(circ_measure_all)\n",
    "circ_with_h.draw('mpl')"
   ]
  },
  {
   "cell_type": "markdown",
   "id": "2c1dff35-2816-4d3c-b78c-84a09277dce0",
   "metadata": {},
   "source": [
    "The expected output state before measurement would be $\\frac{1}{\\sqrt{2}} \\left( \\left|01 \\right\\rangle +  \\left|10 \\right\\rangle \\right)$. Let's now measure it:"
   ]
  },
  {
   "cell_type": "code",
   "execution_count": 11,
   "id": "f953fb33-b119-4d56-9484-13a07612392b",
   "metadata": {},
   "outputs": [
    {
     "name": "stdout",
     "output_type": "stream",
     "text": [
      "{'01': 2034, '10': 1966}\n"
     ]
    }
   ],
   "source": [
    "seed = 42  # I put it here for reproducibility, but you may remove it if you wish\n",
    "res_ideal = sim_ideal.run(circ_with_h, shots=4000, seed_simulator=seed).result()\n",
    "counts = res_ideal.get_counts()\n",
    "\n",
    "print(counts)"
   ]
  },
  {
   "cell_type": "markdown",
   "id": "b16cbe38-acc5-48c8-8c0e-cd8b5b02d17f",
   "metadata": {},
   "source": [
    "Indeed, number of occurences  $\\left|01 \\right\\rangle$ and $\\left|10 \\right\\rangle$ is around the same, although not exactly the same, which is to be expected. We can plot a histogram:"
   ]
  },
  {
   "cell_type": "code",
   "execution_count": 12,
   "id": "55bae757-68e8-4e11-907e-490ad4f447c8",
   "metadata": {},
   "outputs": [
    {
     "data": {
      "image/png": "[encoded data removed]",
      "text/plain": [
       "<Figure size 700x500 with 1 Axes>"
      ]
     },
     "execution_count": 12,
     "metadata": {},
     "output_type": "execute_result"
    }
   ],
   "source": [
    "from qiskit.visualization import plot_histogram\n",
    "\n",
    "plot_histogram(counts)"
   ]
  },
  {
   "cell_type": "markdown",
   "id": "5e250893-cd75-4c8f-a7db-9ebd09e2f806",
   "metadata": {},
   "source": [
    "Note: the way to code described here is a legacy way. The modern way is called **primitives**, you can read about them [here](https://docs.quantum.ibm.com/run/primitives).\n",
    "\n",
    "However, the common practice is not defined yet: particularly, there are versions 1 and 2 of them with difference in usage and default options, but V2 is not yet supported, for example, in Qiskit Aer. If you are curious, you can read below:\n",
    "\n",
    "- examples of usage in [Qiskit](https://docs.quantum.ibm.com/verify/simulate-with-qiskit-primitives) and [Qiskit Aer](https://docs.quantum.ibm.com/verify/simulate-with-qiskit-aer);\n",
    "- [migration from `Backend.run()` model to V1 primitives](https://docs.quantum.ibm.com/api/migration-guides/qiskit-runtime-examples);\n",
    "- [migration from V1 to V2](https://docs.quantum.ibm.com/api/migration-guides/v2-primitives)."
   ]
  },
  {
   "cell_type": "markdown",
   "id": "47981cfc-1858-40a5-9145-e3d61348f9c3",
   "metadata": {},
   "source": [
    "### Remote instances\n"
   ]
  },
  {
   "cell_type": "markdown",
   "id": "8e997839-436f-48ef-9a21-cd5a8b8ed66e",
   "metadata": {},
   "source": [
    "Now let's run this circuit remotely. First, we need to get access IBM Quantum systems. <br>\n",
    "For that, you need access credentials. You can find them by logging in on IBM Quantum Platform and copying the API token from Dashboard: https://quantum.ibm.com/. <br>\n",
    "Then, you can authenticate as below:"
   ]
  },
  {
   "cell_type": "code",
   "execution_count": null,
   "id": "590d11d6-d8bd-474f-b5a0-89e09984c04c",
   "metadata": {},
   "outputs": [],
   "source": [
    "from qiskit_ibm_runtime import QiskitRuntimeService\n",
    "\n",
    "TOKEN = <your token>\n",
    "\n",
    "# One-time access:\n",
    "service = QiskitRuntimeService(channel=\"ibm_quantum\", token=TOKEN)\n",
    "\n",
    "# Save an IBM Quantum account and set it as your default account.\n",
    "# Please do this only if you trust the device!\n",
    "QiskitRuntimeService.save_account(channel=\"ibm_quantum\", token=TOKEN, set_as_default=True)\n",
    "service = QiskitRuntimeService()"
   ]
  },
  {
   "cell_type": "markdown",
   "id": "544f404a-f5f3-4002-8a1e-6d257684bc77",
   "metadata": {},
   "source": [
    "If you already saved the credentials on your computer, you can retrieve them without copying the token to the notebook:"
   ]
  },
  {
   "cell_type": "code",
   "execution_count": 13,
   "id": "fd648d90-ccca-4c35-ad2b-3d8d6e62827e",
   "metadata": {},
   "outputs": [],
   "source": [
    "from qiskit_ibm_runtime import QiskitRuntimeService\n",
    "\n",
    "# Load saved credentials\n",
    "service = QiskitRuntimeService()"
   ]
  },
  {
   "cell_type": "markdown",
   "id": "f3329ebf-f7c3-497a-ad4d-f47d3fe20dfb",
   "metadata": {},
   "source": [
    "Now, we can choose what instance to use. To see what is available, you can either check [Compute resources webpage](https://quantum.ibm.com/services/resources) or call a method below:"
   ]
  },
  {
   "cell_type": "code",
   "execution_count": 14,
   "id": "2ce25a44-755d-42c0-8040-ed7ddb068617",
   "metadata": {},
   "outputs": [
    {
     "data": {
      "text/plain": [
       "[<IBMBackend('ibm_brisbane')>,\n",
       " <IBMBackend('ibm_kyoto')>,\n",
       " <IBMBackend('ibm_osaka')>,\n",
       " <IBMBackend('ibmq_qasm_simulator')>,\n",
       " <IBMBackend('simulator_extended_stabilizer')>,\n",
       " <IBMBackend('simulator_mps')>,\n",
       " <IBMBackend('simulator_statevector')>,\n",
       " <IBMBackend('simulator_stabilizer')>]"
      ]
     },
     "execution_count": 14,
     "metadata": {},
     "output_type": "execute_result"
    }
   ],
   "source": [
    "service.backends()"
   ]
  },
  {
   "cell_type": "markdown",
   "id": "dfea4195-e907-4e0f-9aea-9ebe6bcec6e1",
   "metadata": {},
   "source": [
    "This method also has arguments allowing to filter backends depending on your preferences, refer to [documentation](https://docs.quantum.ibm.com/api/qiskit-ibm-runtime/qiskit_ibm_runtime.QiskitRuntimeService#backends)."
   ]
  },
  {
   "cell_type": "markdown",
   "id": "e2ce18ed-7359-46c4-b665-2968e2bcb24c",
   "metadata": {},
   "source": [
    "We can start with a simulator. Note that even in case of simulator, you might have to wait for some time for your circuit to be launched. <br>\n",
    "This is the reason we put creation of the job in a separate line from obtaining result &mdash; in case you lose connection to network before obtaining the result, you will still have an object which allows easy access to it; when the job is finished, you can simply call `.result()` again and you will retrieve result, which was already computed."
   ]
  },
  {
   "cell_type": "code",
   "execution_count": 15,
   "id": "3c68d8f6-e9cf-4b00-9eda-5bfcd1eb1db3",
   "metadata": {},
   "outputs": [
    {
     "name": "stdout",
     "output_type": "stream",
     "text": [
      "{'01': 2034, '10': 1966}\n"
     ]
    }
   ],
   "source": [
    "backend_sim = service.backend('ibmq_qasm_simulator')\n",
    "job_sim = backend_sim.run(circ_with_h, shots=4000, seed_simulator=seed)\n",
    "res_sim = job_sim.result()\n",
    "print(res_sim.get_counts())"
   ]
  },
  {
   "cell_type": "markdown",
   "id": "8a7acd0e-21b2-4228-b4b6-acd8a031e866",
   "metadata": {},
   "source": [
    "Here, we see the same result as before, down to randomness, as we chose the same simulator model as locally. You can learn about primary differences between them [here](https://docs.quantum.ibm.com/verify/cloud-based-simulators)."
   ]
  },
  {
   "cell_type": "markdown",
   "id": "c7fd05c3-3b06-48e2-98eb-ec47f143f239",
   "metadata": {},
   "source": [
    "By the way, you can still retrieve the job even in case you forgot to create variable for the object or you lost it. You can go to the [Jobs](https://quantum.ibm.com/jobs) page, copy ID of one you are interested in, and do:"
   ]
  },
  {
   "cell_type": "code",
   "execution_count": 30,
   "id": "732d6bbf-add8-4af6-831b-5748be44bb3a",
   "metadata": {},
   "outputs": [
    {
     "name": "stdout",
     "output_type": "stream",
     "text": [
      "{'01': 2034, '10': 1966}\n"
     ]
    }
   ],
   "source": [
    "job_id = <your job ID>\n",
    "job_sim = service.job(job_id)\n",
    "print(job_sim.result().get_counts())"
   ]
  },
  {
   "cell_type": "markdown",
   "id": "6cda061e-6f29-4aa0-aefc-fde719e147c5",
   "metadata": {},
   "source": [
    "As we see, the counts are exactly the same!"
   ]
  },
  {
   "cell_type": "markdown",
   "id": "d445a4a0-3aca-429a-b213-07a10c5c13ee",
   "metadata": {},
   "source": [
    "Now, let's choose true backend. We will use the least busy one, but you can choose any one you want :)\n",
    "\n",
    "**Warning!** \n",
    "Free plan, i.e. [Open Plan](https://docs.quantum.ibm.com/run/instances#open-plan), allows up to:\n",
    "-  3 jobs  running and/or in the queue at the same time (regardless of whether you submit them to a quantum computer or simulator);\n",
    "- 10 minutes per month of quantum computing time (simulator usage does not count towards quota). <br>\n",
    "Resets at 00:00:00 UTC on the first of each calendar month.\n",
    "\n",
    "Running the part below will use some of the quota; however, it should take several seconds of runtime."
   ]
  },
  {
   "cell_type": "code",
   "execution_count": 16,
   "id": "993204e1-5ee5-4453-aaeb-b02f8c9e108c",
   "metadata": {},
   "outputs": [],
   "source": [
    "backend_true = service.least_busy(operational=True, simulator=False, min_num_qubits=2)"
   ]
  },
  {
   "cell_type": "markdown",
   "id": "5cce301d-00ea-4a98-91f0-c51f8ca9efc0",
   "metadata": {},
   "source": [
    "Now, we would like to send the circuit to a remote instance. However, before this, we have to adapt it to the architecture of the chosen computer: they might have a specific topology and a limited number of implemented basis gates. For example, for our backend, those are:"
   ]
  },
  {
   "cell_type": "code",
   "execution_count": 27,
   "id": "5ec0d004-219e-45b0-bc5b-187339fbb7a0",
   "metadata": {},
   "outputs": [
    {
     "data": {
      "text/plain": [
       "['ecr', 'id', 'rz', 'sx', 'x']"
      ]
     },
     "execution_count": 27,
     "metadata": {},
     "output_type": "execute_result"
    }
   ],
   "source": [
    "backend_true.configuration().basis_gates"
   ]
  },
  {
   "cell_type": "markdown",
   "id": "db3c1645-7a2d-43a3-a657-6e437c201651",
   "metadata": {},
   "source": [
    "This process is called transpilation, and you can read about it [here](https://docs.quantum.ibm.com/transpile). The simplest way to perform it is as below:"
   ]
  },
  {
   "cell_type": "code",
   "execution_count": 22,
   "id": "a5a97fd2-7ed0-4c92-942b-d6132dafd942",
   "metadata": {},
   "outputs": [
    {
     "data": {
      "image/png": "[encoded data removed]",
      "text/plain": [
       "<Figure size 1008.66x284.278 with 1 Axes>"
      ]
     },
     "execution_count": 22,
     "metadata": {},
     "output_type": "execute_result"
    }
   ],
   "source": [
    "from qiskit import transpile\n",
    "\n",
    "isa_circ_with_h = transpile(circ_with_h, backend_true)\n",
    "# without idle_wires option, you will see other 125 qubits on diagram too :)\n",
    "isa_circ_with_h.draw('mpl', idle_wires=False)  "
   ]
  },
  {
   "cell_type": "markdown",
   "id": "c6be8420-e47a-4c2f-a974-94963287b99d",
   "metadata": {},
   "source": [
    "There are more [advanced and customizable ways](https://docs.quantum.ibm.com/transpile/transpile-with-pass-managers) to do this as well, but for purpose of this course, the function above suffices.\n",
    "\n",
    "**Warning!** Unfortunately, legacy way does not raise warnings if you forgot to transpile the circuit (the primitives way does). The reason is, before [1 March 2024](https://docs.quantum.ibm.com/announcements/product-updates/2024-02-14-qiskit-runtime-primitives-update), transpilation could be done on the server's side as well; now, however, it is required to be performed on client's side. <br>\n",
    "Therefore, it is very important to remember to transpile circuit before sending it (or you might wait in the queue for hours just to see failure...)."
   ]
  },
  {
   "cell_type": "markdown",
   "id": "9718d4a2-2775-4982-b83c-a8d936e61fdd",
   "metadata": {},
   "source": [
    "Finally, we can submit the circuit, which is done the same way as before. Again, you might have to wait for some time. <br>\n",
    "Note that now we cannot fix the random seed, because the quantum computers are truly random."
   ]
  },
  {
   "cell_type": "code",
   "execution_count": 25,
   "id": "214d726a-5529-4547-aa39-d30e4c7def63",
   "metadata": {},
   "outputs": [
    {
     "name": "stdout",
     "output_type": "stream",
     "text": [
      "{'00': 160, '11': 338, '01': 1820, '10': 1682}\n"
     ]
    }
   ],
   "source": [
    "job_true = backend_true.run(isa_circ_with_h, shots=4000)\n",
    "res_true = job_true.result()\n",
    "print(res_true.get_counts())"
   ]
  },
  {
   "cell_type": "markdown",
   "id": "7174f02c-5f6d-46f3-9f68-a86a656e2848",
   "metadata": {},
   "source": [
    "We can see that because of it being a true quantum computer and, consequently, having noise, we see states $\\left| 00 \\right\\rangle$ and $\\left| 11 \\right\\rangle$ that could not exist in perfect computation."
   ]
  },
  {
   "cell_type": "code",
   "execution_count": 26,
   "id": "e1f0cc2f-f93b-4bb0-8e57-d51316f6276e",
   "metadata": {},
   "outputs": [
    {
     "data": {
      "image/png": "[encoded data removed]",
      "text/plain": [
       "<Figure size 700x500 with 1 Axes>"
      ]
     },
     "execution_count": 26,
     "metadata": {},
     "output_type": "execute_result"
    }
   ],
   "source": [
    "from qiskit.visualization import plot_histogram\n",
    "\n",
    "counts_true = res_true.get_counts()\n",
    "plot_histogram([counts, counts_true], legend=['Simulator', 'Quantum instance'])"
   ]
  },
  {
   "cell_type": "markdown",
   "id": "37e40e04-c63f-4d37-b0dd-c018d66c6779",
   "metadata": {},
   "source": [
    "## Couple of other tricks"
   ]
  },
  {
   "cell_type": "markdown",
   "id": "531129b6-82ad-4e5d-a9b0-b6c406519e70",
   "metadata": {},
   "source": [
    "### State preparation\n",
    "\n",
    "\n",
    "Now, what if we wanted to start with some other state? One way is to add gates preparing it manually. Another would be to use a method [.prepare_state(state)](https://docs.quantum.ibm.com/api/qiskit/qiskit.circuit.QuantumCircuit#prepare_state). For example suppose we want to start with the state $\\left| 10 \\right\\rangle$:"
   ]
  },
  {
   "cell_type": "code",
   "execution_count": 31,
   "id": "a1600005-bc5a-49cf-96dc-89f768f13f96",
   "metadata": {},
   "outputs": [
    {
     "data": {
      "image/png": "[encoded data removed]",
      "text/plain": [
       "<Figure size 914.831x284.278 with 1 Axes>"
      ]
     },
     "execution_count": 31,
     "metadata": {},
     "output_type": "execute_result"
    }
   ],
   "source": [
    "state_10 = QuantumCircuit(2)\n",
    "state_10.prepare_state('10', state_10.qubits)\n",
    "state_10_circ = state_10.compose(circ_measure_all)\n",
    "state_10_circ.draw('mpl')"
   ]
  },
  {
   "cell_type": "markdown",
   "id": "c5e82337-3921-4645-95ca-165c2dbb845b",
   "metadata": {},
   "source": [
    "Note however that this instruction might not be supported from the get-go in the simulator too, so you will still have to transpile circuit:"
   ]
  },
  {
   "cell_type": "code",
   "execution_count": 37,
   "id": "d50cc57e-a036-40f1-8f62-acd95143eab5",
   "metadata": {},
   "outputs": [
    {
     "data": {
      "image/png": "[encoded data removed]",
      "text/plain": [
       "<Figure size 663.998x284.278 with 1 Axes>"
      ]
     },
     "execution_count": 37,
     "metadata": {},
     "output_type": "execute_result"
    }
   ],
   "source": [
    "isa_state_10_circ = transpile(state_10_circ, sim_ideal)\n",
    "isa_state_10_circ.draw('mpl')"
   ]
  },
  {
   "cell_type": "markdown",
   "id": "8e22777c-f491-4a7d-a6c8-f92dfdd45e1c",
   "metadata": {},
   "source": [
    "As we see, after transpilation,  the instruction of state preparation became just another NOT gate, as it should."
   ]
  },
  {
   "cell_type": "code",
   "execution_count": 41,
   "id": "0ea7b323-291e-4db7-b0b0-2592f4d03a14",
   "metadata": {},
   "outputs": [
    {
     "name": "stdout",
     "output_type": "stream",
     "text": [
      "{'00': 4000}\n"
     ]
    }
   ],
   "source": [
    "res_state_10 = sim_ideal.run(isa_state_10_circ, shots=4000).result() \n",
    "counts_state_10 = res_state_10.get_counts() \n",
    "print(counts_state_10)"
   ]
  },
  {
   "cell_type": "markdown",
   "id": "e0fc2235-44c1-47b7-a4f4-e0581d97e02c",
   "metadata": {},
   "source": [
    "### Matrix form\n",
    "\n",
    "We can look at matrix representation of the circuit as well. Note that it should not contain measurement operators:"
   ]
  },
  {
   "cell_type": "code",
   "execution_count": 46,
   "id": "141bdf24-de4f-4c6a-a027-c135ac17bc92",
   "metadata": {},
   "outputs": [
    {
     "name": "stdout",
     "output_type": "stream",
     "text": [
      "(4, 4)\n",
      "[[0. 0. 1. 0.]\n",
      " [0. 1. 0. 0.]\n",
      " [1. 0. 0. 0.]\n",
      " [0. 0. 0. 1.]]\n"
     ]
    }
   ],
   "source": [
    "from qiskit.quantum_info.operators import Operator\n",
    "\n",
    "op = Operator(circ)\n",
    "print(op.dim)\n",
    "print(op.data.real)  # imaginary part is not present here"
   ]
  },
  {
   "cell_type": "markdown",
   "id": "654f6788-ccb3-454b-891e-652b23df84a6",
   "metadata": {},
   "source": [
    "It seems different from ours in the solution. The reason, again, is reverse order of qubits. We can reverse it back if we wish:"
   ]
  },
  {
   "cell_type": "code",
   "execution_count": 48,
   "id": "86e1cf7e-05f7-4f15-a5ef-a05a68e6d146",
   "metadata": {},
   "outputs": [
    {
     "name": "stdout",
     "output_type": "stream",
     "text": [
      "[[0. 1. 0. 0.]\n",
      " [1. 0. 0. 0.]\n",
      " [0. 0. 1. 0.]\n",
      " [0. 0. 0. 1.]]\n"
     ]
    }
   ],
   "source": [
    "op_rev = op.reverse_qargs()\n",
    "print(op_rev.data.real)"
   ]
  },
  {
   "cell_type": "markdown",
   "id": "7da5bdb7-fca5-4b15-a0a5-0a2c0efb9cdf",
   "metadata": {},
   "source": [
    "Now we see same result as in the solution! <br>\n",
    "\n",
    "We can also plug a unitary operator in the circuit:"
   ]
  },
  {
   "cell_type": "code",
   "execution_count": 55,
   "id": "b00c92a5-f448-4bfe-ba34-ac20cbbeb298",
   "metadata": {},
   "outputs": [
    {
     "data": {
      "image/png": "[encoded data removed]",
      "text/plain": [
       "<Figure size 580.387x284.278 with 1 Axes>"
      ]
     },
     "execution_count": 55,
     "metadata": {},
     "output_type": "execute_result"
    }
   ],
   "source": [
    "circ_from_op = QuantumCircuit(2)\n",
    "circ_from_op.unitary(op, range(2))\n",
    "circ_from_op.measure_all()\n",
    "circ_from_op.draw('mpl')"
   ]
  },
  {
   "cell_type": "code",
   "execution_count": 56,
   "id": "50351dab-93db-45e7-8e78-f0d892df3a08",
   "metadata": {},
   "outputs": [
    {
     "name": "stdout",
     "output_type": "stream",
     "text": [
      "{'10': 4000}\n"
     ]
    }
   ],
   "source": [
    "res_from_op = sim_ideal.run(circ_from_op, shots=4000).result() \n",
    "res_from_op = res_from_op.get_counts() \n",
    "print(res_from_op)"
   ]
  },
  {
   "cell_type": "markdown",
   "id": "d208589e-a667-463d-a04c-a569807bfeb6",
   "metadata": {},
   "source": [
    "## Other useful links\n",
    "- [Various tutorials and courses](https://learning.quantum.ibm.com/)  on quantum computing with IBM Platform and Qiskit.\n",
    "- [IBM Quantum Composer](https://quantum.ibm.com/composer/),   a graphical quantum programming tool that lets you drag and drop operations to build quantum circuits and run them on real quantum hardware or simulators. More info [here](https://learning.quantum.ibm.com/tutorial/explore-gates-and-circuits-with-the-quantum-composer).\n",
    "- [Tutorials on Qiskit Aer](https://qiskit.github.io/qiskit-aer/tutorials/), particularly noise models\n",
    "- [Qiskit Slack](https://qisk.it/join-slack) community"
   ]
  }
 ],
 "metadata": {
  "kernelspec": {
   "display_name": "Python 3 (ipykernel)",
   "language": "python",
   "name": "python3"
  },
  "language_info": {
   "codemirror_mode": {
    "name": "ipython",
    "version": 3
   },
   "file_extension": ".py",
   "mimetype": "text/x-python",
   "name": "python",
   "nbconvert_exporter": "python",
   "pygments_lexer": "ipython3",
   "version": "3.12.2"
  }
 },
 "nbformat": 4,
 "nbformat_minor": 5
}