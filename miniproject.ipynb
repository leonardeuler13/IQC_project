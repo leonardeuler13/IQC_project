{
 "cells": [
  {
   "cell_type": "code",
   "execution_count": 15,
   "id": "d619595c",
   "metadata": {},
   "outputs": [],
   "source": [
    "import itertools\n",
    "import numpy as np\n",
    "import qiskit\n",
    "from qiskit import QuantumCircuit,QuantumRegister\n"
   ]
  },
  {
   "cell_type": "markdown",
   "id": "aa06a4f0",
   "metadata": {},
   "source": [
    "# Grover's algorithm applied to a satisfiability problem\n",
    " \n",
    " The 3-SAT problem is a well known NP-complete problem. It consists in looking for vectors : $$(x_0, . . . , x_{n-1}) \\in \\{0, 1\\}^n$$\n",
    "satisfying a given predicate f in the form of a conjunction of clauses\n",
    "which are all 3-disjunctions."
   ]
  },
  {
   "cell_type": "markdown",
   "id": "d27444fe",
   "metadata": {},
   "source": [
    "### answer 0 :"
   ]
  },
  {
   "cell_type": "markdown",
   "id": "ebbbfddf",
   "metadata": {},
   "source": [
    "We condider the the predicate f defined as : \n",
    "$$f(x_0,x_1,x_2,x_3,x_4) = (\\overline{x_0}\\cup x_1)\\cap(x_0\\cup x_1 \\cup \\overline{x_2})\\cap(x_2\\cup x_3)\\cap(\\overline{x_1}\\cup\\overline{x_2}\\cup x_3)\\cap(\\overline{x_3}\\cup \\overline{x_4})\\cap(\\overline{x_2}\\cup \\overline{x_3}\\cup x_4)$$\n",
    "There are 3 possible solutions :\n",
    "$$v_1 = (0, 0, 0, 1, 0)\\qquad v_2 = (0, 1, 0, 1, 0) \\qquad v_3 = (1, 1, 0, 1, 0)$$\n",
    "\n",
    "We get this through this code:"
   ]
  },
  {
   "cell_type": "code",
   "execution_count": 16,
   "id": "8fa97f3a",
   "metadata": {},
   "outputs": [],
   "source": [
    "def compute(n, expr):\n",
    "    combinations = list(itertools.product([0, 1], repeat=n))\n",
    "    \n",
    "    matrix = np.array(combinations)\n",
    "    res = [expr(x) for x in matrix]\n",
    "    print([matrix[x] for x in range(np.power(2,n)) if res[x] == True])"
   ]
  },
  {
   "cell_type": "code",
   "execution_count": 17,
   "id": "4f007ee6",
   "metadata": {},
   "outputs": [
    {
     "name": "stdout",
     "output_type": "stream",
     "text": [
      "[array([0, 0, 0, 1, 0]), array([0, 1, 0, 1, 0]), array([1, 1, 0, 1, 0])]\n"
     ]
    }
   ],
   "source": [
    "def custom_expression(x):\n",
    "    return (\n",
    "        (not x[0] or x[1]) and\n",
    "        (x[0] or x[1] or not x[2]) and\n",
    "        (x[2] or x[3]) and\n",
    "        (not x[1] or not x[2] or x[3]) and\n",
    "        (not x[3] or not x[4]) and\n",
    "        (not x[2] or not x[3] or x[4])\n",
    "    )\n",
    "compute(5, custom_expression)"
   ]
  },
  {
   "cell_type": "markdown",
   "id": "eae507ad",
   "metadata": {},
   "source": [
    "### answer 1 :"
   ]
  },
  {
   "cell_type": "code",
   "execution_count": 20,
   "id": "fd05eb80",
   "metadata": {},
   "outputs": [
    {
     "data": {
      "image/png": "[encoded data removed]",
      "text/plain": [
       "<Figure size 326.532x385.28 with 1 Axes>"
      ]
     },
     "execution_count": 20,
     "metadata": {},
     "output_type": "execute_result"
    }
   ],
   "source": [
    "f_in = QuantumRegister(5, name='x')\n",
    "y = QuantumRegister(1, name='y')\n",
    "\n",
    "circ = QuantumCircuit(f_in, y)\n",
    "circ.prepare_state('000000', circ.qubits)\n",
    "\n",
    "for i in range(6):\n",
    "    circ.h(i)\n",
    "circ.draw('mpl')"
   ]
  },
  {
   "cell_type": "markdown",
   "id": "7ab4f374",
   "metadata": {},
   "source": [
    "### answer 2 :"
   ]
  },
  {
   "cell_type": "code",
   "execution_count": null,
   "id": "19937690",
   "metadata": {},
   "outputs": [],
   "source": []
  }
 ],
 "metadata": {
  "kernelspec": {
   "display_name": "Python 3 (ipykernel)",
   "language": "python",
   "name": "python3"
  },
  "language_info": {
   "codemirror_mode": {
    "name": "ipython",
    "version": 3
   },
   "file_extension": ".py",
   "mimetype": "text/x-python",
   "name": "python",
   "nbconvert_exporter": "python",
   "pygments_lexer": "ipython3",
   "version": "3.9.12"
  }
 },
 "nbformat": 4,
 "nbformat_minor": 5
}
