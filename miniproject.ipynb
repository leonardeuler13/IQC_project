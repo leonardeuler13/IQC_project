{
 "cells": [
  {
   "cell_type": "markdown",
   "id": "e1cb4409",
   "metadata": {},
   "source": [
    "# Grover's algorithm applied to a satisfiability problem\n",
    " \n",
    " The 3-SAT problem is a well known NP-complete problem. It consists in looking for vectors : $$(x_0, . . . , x_{n-1}) \\in \\{0, 1\\}^n$$\n",
    "satisfying a given predicate f in the form of a conjunction of clauses\n",
    "which are all 3-disjunctions.\n"
   ]
  },
  {
   "cell_type": "markdown",
   "id": "d27444fe",
   "metadata": {},
   "source": [
    "### answer 0 :"
   ]
  },
  {
   "cell_type": "markdown",
   "id": "ebbbfddf",
   "metadata": {},
   "source": [
    "We condider the the predicate f defined as : \n",
    "$$f(x_0,x_1,x_2,x_3,x_4) = (\\overline{x_0}\\cup x_1)\\cap(x_0\\cup x_1 \\cup \\overline{x_2})\\cap(x_2\\cup x_3)\\cap(\\overline{x_1}\\cup\\overline{x_2}\\cup x_3)\\cap(\\overline{x_3}\\cup \\overline{x_4})\\cap(\\overline{x_2}\\cup \\overline{x_3}\\cup x_4)$$\n",
    "There are 3 possible solutions :\n",
    "$$v_1 = (0, 0, 0, 1, 0)\\qquad v_2 = (0, 1, 0, 1, 0) \\qquad v_3 = (1, 1, 0, 1, 0)$$\n",
    "\n",
    "We get this through this code:"
   ]
  },
  {
   "cell_type": "code",
   "execution_count": 1,
   "id": "4342b2e2",
   "metadata": {},
   "outputs": [
    {
     "name": "stdout",
     "output_type": "stream",
     "text": [
      "0 0 0 1 0\n",
      "0 1 0 1 0\n",
      "1 1 0 1 0\n"
     ]
    }
   ],
   "source": [
    "for i in range(2):\n",
    "    for j in range(2):\n",
    "        for k in range(2):\n",
    "            for l in range(2):\n",
    "                for m in range(2):\n",
    "                    if ((not i or j) and (i or j or not k) and (k or l) and (not j or not k or l) and (not l or not m) and (not k or not l or m)):\n",
    "                        print(i, j, k, l, m)\n"
   ]
  },
  {
   "cell_type": "code",
   "execution_count": null,
   "id": "d19ea350",
   "metadata": {},
   "outputs": [],
   "source": []
  }
 ],
 "metadata": {
  "kernelspec": {
   "display_name": "Python 3 (ipykernel)",
   "language": "python",
   "name": "python3"
  },
  "language_info": {
   "codemirror_mode": {
    "name": "ipython",
    "version": 3
   },
   "file_extension": ".py",
   "mimetype": "text/x-python",
   "name": "python",
   "nbconvert_exporter": "python",
   "pygments_lexer": "ipython3",
   "version": "3.11.8"
  }
 },
 "nbformat": 4,
 "nbformat_minor": 5
}
